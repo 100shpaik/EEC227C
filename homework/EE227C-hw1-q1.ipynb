{
 "cells": [
  {
   "cell_type": "code",
   "execution_count": 1,
   "id": "06fc24fb-c592-457d-9f5f-72c2bcd05c32",
   "metadata": {},
   "outputs": [],
   "source": [
    "import numpy as np\n",
    "import pandas as pd\n",
    "from sklearn.model_selection import ParameterGrid\n",
    "import matplotlib.pyplot as plt"
   ]
  },
  {
   "cell_type": "markdown",
   "id": "e82fcf72-dfb2-4481-bd9b-8b370239b425",
   "metadata": {},
   "source": [
    "## 0. Problem setting"
   ]
  },
  {
   "cell_type": "code",
   "execution_count": 2,
   "id": "521e2586-b22c-42a5-8cbd-d22b3e23daf4",
   "metadata": {},
   "outputs": [],
   "source": [
    "n = 10\n",
    "kl = [i+1 for i in range(5)]\n",
    "setting = {k: {\"A\":[], \"b\":np.empty(n)} for k in kl}"
   ]
  },
  {
   "cell_type": "code",
   "execution_count": 3,
   "id": "592c8b9e-b842-46dd-ad21-0f13bafadc9f",
   "metadata": {},
   "outputs": [],
   "source": [
    "A_od = [[0 for j in range(n)] for i in range(n)]\n",
    "for i in range(n):\n",
    "    for j in range(n):\n",
    "        m = min(i,j)+1\n",
    "        M = max(i,j)+1\n",
    "        A_od[i][j] = np.exp(m/M) * np.cos(m*M)\n",
    "\n",
    "for i in range(n):\n",
    "    A_od[i][i] = 0\n",
    "    \n",
    "A_od = np.array(A_od)"
   ]
  },
  {
   "cell_type": "code",
   "execution_count": 4,
   "id": "0b0ba5c8-eb30-4dc0-8cd6-21457a7dc8e3",
   "metadata": {},
   "outputs": [],
   "source": [
    "A_od_rowsum = A_od.sum(axis = 1)"
   ]
  },
  {
   "cell_type": "code",
   "execution_count": 5,
   "id": "db9aa9b9-2169-4b64-abf8-f1d0c01186f8",
   "metadata": {},
   "outputs": [],
   "source": [
    "for k in kl:\n",
    "    # 1. A_k\n",
    "    setting[k][\"A\"] = A_od * np.sin(k)\n",
    "    for i in range(n):\n",
    "        setting[k][\"A\"][i][i] = ((i+1)/10)*abs(np.sin(k)) + A_od_rowsum[i]*np.sin(k)\n",
    "    # 2. b_k\n",
    "    for i in range(n):\n",
    "        setting[k][\"b\"][i] = np.exp((i+1)/k) * np.sin((i+1)*k)"
   ]
  },
  {
   "cell_type": "code",
   "execution_count": 6,
   "id": "67cd5844-4d98-400c-9f66-82d3c800f4d9",
   "metadata": {},
   "outputs": [],
   "source": [
    "def maxquad(x = np.zeros(n), setting = setting):\n",
    "    val = np.zeros(len(kl))\n",
    "    for k in kl:\n",
    "        A = setting[k][\"A\"]\n",
    "        b = setting[k][\"b\"]\n",
    "        val[k-1] = np.matmul(np.matmul(x, A), x) - np.dot(b, x)\n",
    "    return (max(val), np.argmax(val), val)"
   ]
  },
  {
   "cell_type": "code",
   "execution_count": 7,
   "id": "96ebd850-61f5-4bca-b8a8-d89a45a55519",
   "metadata": {},
   "outputs": [],
   "source": [
    "def grad(x=np.zeros(n), A=np.zeros(n*n), b=np.zeros(n)):\n",
    "    return 2*np.matmul(A, x)-b"
   ]
  },
  {
   "cell_type": "code",
   "execution_count": 8,
   "id": "97593c61-a6e8-44a3-b688-e591a42c2536",
   "metadata": {},
   "outputs": [],
   "source": [
    "def SGD(x0, T=100, tol=1, version=\"vanilla\", globalmin = 0):\n",
    "    history = {\"x\":[], \"k\":[], \"f\":[], \"bestf\":[]}\n",
    "    minf = 10**5\n",
    "    minx = np.zeros(n)\n",
    "    mink = -1\n",
    "    xt = x0\n",
    "    if version==\"vanilla\":\n",
    "        C = 1\n",
    "        for t in range(1, T):\n",
    "            ##### OBTAIN maxquad #####\n",
    "            fx, kt, _ = maxquad(xt) # the real $k$ is kt+1.\n",
    "            history[\"x\"].append(xt)\n",
    "            history[\"f\"].append(fx)\n",
    "            history[\"k\"].append(kt)\n",
    "            if fx < minf:\n",
    "                minx = xt\n",
    "                minf = fx\n",
    "                mink = kt\n",
    "                history[\"bestf\"].append(fx)\n",
    "            else:\n",
    "                history[\"bestf\"].append(minf)\n",
    "#             print(t, xt, fx, kt)\n",
    "            \n",
    "            ##### SGD UPDATE #####\n",
    "            lr = C/(t**0.5)\n",
    "            g = grad(xt, setting[kt+1][\"A\"], setting[kt+1][\"b\"]) # note: any gradient obtained by $A_k, b_k$ is subgradient.\n",
    "            ng = g / np.linalg.norm(g) # asusme the norm is nonzero\n",
    "            xt = xt - lr * ng\n",
    "                \n",
    "    if version==\"polyak\":\n",
    "        C = 1\n",
    "        for t in range(1, T):\n",
    "            ##### OBTAIN maxquad #####\n",
    "            fx, kt, _ = maxquad(xt) \n",
    "            history[\"x\"].append(xt)\n",
    "            history[\"f\"].append(fx)\n",
    "            history[\"k\"].append(kt)\n",
    "            if fx < minf:\n",
    "                minx = xt\n",
    "                minf = fx\n",
    "                mink = kt\n",
    "                history[\"bestf\"].append(fx)\n",
    "            else:\n",
    "                history[\"bestf\"].append(minf)\n",
    "#             print(t, fx, kt)\n",
    "            \n",
    "            ##### SGD UPDATE #####\n",
    "            g = grad(xt, setting[kt+1][\"A\"], setting[kt+1][\"b\"])\n",
    "            norm = np.linalg.norm(g)\n",
    "#             print(norm)\n",
    "            lr = (fx - globalmin)/norm \n",
    "            ng = g / norm\n",
    "            xt = xt - lr * ng\n",
    "    \n",
    "    return (minf, minx, mink, history)"
   ]
  },
  {
   "cell_type": "markdown",
   "id": "d07ffa30-9022-4dc7-af9f-0a6eb666d6a9",
   "metadata": {},
   "source": [
    "## (a)"
   ]
  },
  {
   "cell_type": "markdown",
   "id": "ba377bca-1689-4202-810b-41c7fa8138a7",
   "metadata": {},
   "source": [
    "What is $f(x^1)$?"
   ]
  },
  {
   "cell_type": "code",
   "execution_count": 9,
   "id": "9da87e3a-e39b-46b0-be90-bbe7b0a83515",
   "metadata": {
    "tags": []
   },
   "outputs": [
    {
     "name": "stdout",
     "output_type": "stream",
     "text": [
      "5250.524414597696\n"
     ]
    }
   ],
   "source": [
    "f_x1, _, _  =maxquad(np.ones(n))\n",
    "print(f_x1)"
   ]
  },
  {
   "cell_type": "markdown",
   "id": "fc880ff3-583f-4570-8314-50335fce07ca",
   "metadata": {},
   "source": [
    "What is $min_{x\\in\\mathbb{R}^d} f(x)$?"
   ]
  },
  {
   "cell_type": "code",
   "execution_count": 10,
   "id": "bd1a0514-3bb1-4f44-ac68-0121d03048ac",
   "metadata": {},
   "outputs": [],
   "source": [
    "horizon = 10**5\n",
    "minf, minx, mink, history = SGD(np.ones(n), T=horizon)"
   ]
  },
  {
   "cell_type": "code",
   "execution_count": 11,
   "id": "547155d6-eed0-41c9-957c-c1db9c29e321",
   "metadata": {},
   "outputs": [
    {
     "data": {
      "text/plain": [
       "-134.98645619766074"
      ]
     },
     "execution_count": 11,
     "metadata": {},
     "output_type": "execute_result"
    }
   ],
   "source": [
    "minf"
   ]
  },
  {
   "cell_type": "markdown",
   "id": "a4928ed3-9de3-4c8c-9796-99f7879f0bfb",
   "metadata": {},
   "source": [
    "## (b)"
   ]
  },
  {
   "cell_type": "code",
   "execution_count": 12,
   "id": "74ae5626-12d2-46db-a1f3-b384625bfb48",
   "metadata": {},
   "outputs": [],
   "source": [
    "end = int(horizon * 0.8)\n",
    "gap = np.log(np.array(history[\"bestf\"][:end])-minf)\n",
    "iterno = np.log(np.array(range(1,end+1)))"
   ]
  },
  {
   "cell_type": "code",
   "execution_count": 13,
   "id": "cf2eef79-5303-42bf-87d2-dcf6c12ae74b",
   "metadata": {},
   "outputs": [
    {
     "data": {
      "text/plain": [
       "Text(0, 0.5, 'Suboptimality Gap (log-scale)')"
      ]
     },
     "execution_count": 13,
     "metadata": {},
     "output_type": "execute_result"
    },
    {
     "data": {
      "image/png": "[encoded data removed]",
      "text/plain": [
       "<Figure size 432x288 with 1 Axes>"
      ]
     },
     "metadata": {
      "needs_background": "light"
     },
     "output_type": "display_data"
    }
   ],
   "source": [
    "plt.plot(iterno, gap, label=\"Vanilla stepsize\")\n",
    "plt.xlabel('Iteration Number (log-scale)')\n",
    "plt.ylabel('Suboptimality Gap (log-scale)')"
   ]
  },
  {
   "cell_type": "markdown",
   "id": "86b71218-aa2a-427f-858c-42ebf6ffcada",
   "metadata": {},
   "source": [
    "## (c)"
   ]
  },
  {
   "cell_type": "code",
   "execution_count": 14,
   "id": "eb715ba3-5264-4f37-be42-7002d46d44a4",
   "metadata": {},
   "outputs": [],
   "source": [
    "horizon = 10**5\n",
    "minf_p, minx_p, mink_p, history_p = SGD(np.ones(n), T=horizon, version=\"polyak\", globalmin = minf)"
   ]
  },
  {
   "cell_type": "code",
   "execution_count": 15,
   "id": "d771f7a1-43d3-46d5-bbb3-cab0603cf9fb",
   "metadata": {},
   "outputs": [
    {
     "data": {
      "text/plain": [
       "-134.98471126065186"
      ]
     },
     "execution_count": 15,
     "metadata": {},
     "output_type": "execute_result"
    }
   ],
   "source": [
    "minf_p"
   ]
  },
  {
   "cell_type": "code",
   "execution_count": 16,
   "id": "26c78764-2d53-40fb-8596-1e55c847343b",
   "metadata": {},
   "outputs": [],
   "source": [
    "end = int(horizon * 0.8)\n",
    "gap_p = np.log(np.array(history_p[\"bestf\"][:end])-minf)"
   ]
  },
  {
   "cell_type": "code",
   "execution_count": 17,
   "id": "8d1ede7f-c662-41ed-bb1a-f76e3f2681cd",
   "metadata": {},
   "outputs": [
    {
     "data": {
      "text/plain": [
       "<matplotlib.legend.Legend at 0x7fde31651790>"
      ]
     },
     "execution_count": 17,
     "metadata": {},
     "output_type": "execute_result"
    },
    {
     "data": {
      "image/png": "[encoded data removed]",
      "text/plain": [
       "<Figure size 432x288 with 1 Axes>"
      ]
     },
     "metadata": {
      "needs_background": "light"
     },
     "output_type": "display_data"
    }
   ],
   "source": [
    "plt.plot(iterno, gap, label=\"Vanilla stepsize\")\n",
    "plt.plot(iterno, gap_p, label=\"Polyak stepsize\")\n",
    "plt.xlabel('Iteration Number (log-scale)')\n",
    "plt.ylabel('Suboptimality Gap (log-scale)')\n",
    "plt.legend()"
   ]
  }
 ],
 "metadata": {
  "kernelspec": {
   "display_name": "Python 3",
   "language": "python",
   "name": "python3"
  },
  "language_info": {
   "codemirror_mode": {
    "name": "ipython",
    "version": 3
   },
   "file_extension": ".py",
   "mimetype": "text/x-python",
   "name": "python",
   "nbconvert_exporter": "python",
   "pygments_lexer": "ipython3",
   "version": "3.8.8"
  }
 },
 "nbformat": 4,
 "nbformat_minor": 5
}
